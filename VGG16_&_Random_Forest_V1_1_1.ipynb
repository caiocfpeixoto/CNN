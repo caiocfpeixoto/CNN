{
  "nbformat": 4,
  "nbformat_minor": 0,
  "metadata": {
    "colab": {
      "provenance": [],
      "authorship_tag": "ABX9TyO3+7aUw58nP+IS8TmlwVM2",
      "include_colab_link": true
    },
    "kernelspec": {
      "name": "python3",
      "display_name": "Python 3"
    },
    "language_info": {
      "name": "python"
    }
  },
  "cells": [
    {
      "cell_type": "markdown",
      "metadata": {
        "id": "view-in-github",
        "colab_type": "text"
      },
      "source": [
        "<a href=\"https://colab.research.google.com/github/caiocfpeixoto/VGG16_RANDOM_FOREST/blob/main/VGG16_%26_Random_Forest_V1_1_1.ipynb\" target=\"_parent\"><img src=\"https://colab.research.google.com/assets/colab-badge.svg\" alt=\"Open In Colab\"/></a>"
      ]
    },
    {
      "cell_type": "markdown",
      "source": [
        "Import de pacotes necessários"
      ],
      "metadata": {
        "id": "9V9RVCrz0cKb"
      }
    },
    {
      "cell_type": "code",
      "source": [
        "!pip install split-folders"
      ],
      "metadata": {
        "colab": {
          "base_uri": "https://localhost:8080/"
        },
        "id": "-HnNT_hiwssR",
        "outputId": "5c19cde8-379d-4d70-8ba8-9d682b108052"
      },
      "execution_count": null,
      "outputs": [
        {
          "output_type": "stream",
          "name": "stdout",
          "text": [
            "Requirement already satisfied: split-folders in /usr/local/lib/python3.10/dist-packages (0.5.1)\n"
          ]
        }
      ]
    },
    {
      "cell_type": "code",
      "execution_count": null,
      "metadata": {
        "id": "Xm0Gy7yopgqU"
      },
      "outputs": [],
      "source": [
        "import numpy as np\n",
        "import pandas as pd\n",
        "import cv2\n",
        "import seaborn as sns\n",
        "import os\n",
        "from PIL import Image\n",
        "\n",
        "import matplotlib.pyplot as plt\n",
        "import glob\n",
        "\n",
        "from keras.models import Sequential\n",
        "from keras.layers import Conv2D, Dense, Flatten, BatchNormalization, MaxPooling2D\n",
        "\n",
        "from keras.applications import VGG16\n",
        "\n",
        "from sklearn import preprocessing\n",
        "from sklearn.ensemble import RandomForestClassifier\n",
        "from keras.utils import  to_categorical\n",
        "from sklearn import metrics\n",
        "from sklearn.metrics import confusion_matrix\n",
        "import splitfolders"
      ]
    },
    {
      "cell_type": "markdown",
      "source": [
        "Conexão com Google drive"
      ],
      "metadata": {
        "id": "sL9Z0Isjp9uT"
      }
    },
    {
      "cell_type": "code",
      "source": [
        "from google.colab import drive\n",
        "drive.mount('/content/drive')"
      ],
      "metadata": {
        "id": "jd7obo9fD593",
        "colab": {
          "base_uri": "https://localhost:8080/"
        },
        "outputId": "27e60c60-8247-41e6-91a7-d68aac157522"
      },
      "execution_count": null,
      "outputs": [
        {
          "output_type": "stream",
          "name": "stdout",
          "text": [
            "Mounted at /content/drive\n"
          ]
        }
      ]
    },
    {
      "cell_type": "code",
      "source": [
        "SIZE = 120\n",
        "def datafunc(datadir):\n",
        "    images = []\n",
        "    labels = []\n",
        "    file_names = []\n",
        "    for dir_path in glob.glob(datadir):\n",
        "        label = dir_path.split('/')[-1]\n",
        "        for img_path in glob.glob(os.path.join(dir_path, '*.tif')):\n",
        "            try:\n",
        "                img = cv2.imread(img_path, cv2.IMREAD_COLOR)\n",
        "                img = cv2.resize(img, (SIZE, SIZE))\n",
        "                img = cv2.cvtColor(img, cv2.COLOR_RGB2BGR)\n",
        "                file_name = os.path.basename(img_path)\n",
        "                file_names.append(file_name)\n",
        "                images.append(img)\n",
        "                labels.append(label)\n",
        "            except Exception as e:\n",
        "                print(e)\n",
        "\n",
        "    return np.array(images), np.array(labels), np.array(file_names)"
      ],
      "metadata": {
        "id": "Gxo0JPbdQpMc"
      },
      "execution_count": null,
      "outputs": []
    },
    {
      "cell_type": "code",
      "source": [
        "seeds = [\"12\", \"22\", \"32\", \"42\", \"52\"]\n",
        "vetor_resultados = []\n",
        "base_path = \"/content/drive/MyDrive/Celulas Cervicais_V1.1_seed_\"\n",
        "train_suffix = \"/train/*\"\n",
        "test_suffix = \"/test/*\""
      ],
      "metadata": {
        "id": "YIvwhMAiTH6Y"
      },
      "execution_count": null,
      "outputs": []
    },
    {
      "cell_type": "code",
      "source": [
        "VGG_model = VGG16(weights = 'imagenet', include_top = False, input_shape = (SIZE, SIZE, 3))\n",
        "\n",
        "for layer in VGG_model.layers:\n",
        "    layer.trainable = False"
      ],
      "metadata": {
        "colab": {
          "base_uri": "https://localhost:8080/"
        },
        "id": "4L5bSaQ6CSc_",
        "outputId": "4a2d8f4e-d02a-42fe-abd8-62a92b7ae69e"
      },
      "execution_count": null,
      "outputs": [
        {
          "output_type": "stream",
          "name": "stdout",
          "text": [
            "Downloading data from https://storage.googleapis.com/tensorflow/keras-applications/vgg16/vgg16_weights_tf_dim_ordering_tf_kernels_notop.h5\n",
            "58889256/58889256 [==============================] - 1s 0us/step\n"
          ]
        }
      ]
    },
    {
      "cell_type": "code",
      "source": [
        " RF_model = RandomForestClassifier(n_estimators=100, random_state=42)"
      ],
      "metadata": {
        "id": "CY4Sjs1fCfXM"
      },
      "execution_count": null,
      "outputs": []
    },
    {
      "cell_type": "code",
      "source": [
        "for seed in seeds:\n",
        "  train_path = base_path + seed + train_suffix\n",
        "  test_path = base_path + seed + test_suffix\n",
        "\n",
        "  train_images, train_labels, train_images_names = datafunc(train_path)\n",
        "  test_images, test_labels, test_images_names = datafunc(test_path)\n",
        "\n",
        "  df = pd.DataFrame({'label': train_labels, 'images': list(train_images_names), 'path': list(train_images)}, columns=['label', 'images', 'path'])\n",
        "\n",
        "  count_class_0, count_class_1 = df.label.value_counts()\n",
        "\n",
        "  df_class_0 = df[df['label'] == 'NEGATIVA']\n",
        "  df_class_1 = df[df['label'] == 'POSITIVA']\n",
        "\n",
        "  df_class_0_under = df_class_0.sample(count_class_1)\n",
        "  df_test_under = pd.concat([df_class_0_under, df_class_1], axis=0)\n",
        "\n",
        "  t_images = []\n",
        "  for img in df_test_under['path']:\n",
        "      img = Image.fromarray(img)\n",
        "      img = cv2.cvtColor(np.array(img), cv2.COLOR_RGB2BGR)\n",
        "      t_images.append(img)\n",
        "  t_images = np.array(t_images)\n",
        "  train_labels = np.array(df_test_under['label'])\n",
        "\n",
        "  le = preprocessing.LabelEncoder()\n",
        "  le.fit(test_labels)\n",
        "  test_labels_encoded = le.transform(test_labels)\n",
        "  le.fit(train_labels)\n",
        "  train_labels_encoded = le.transform(train_labels)\n",
        "\n",
        "  x_train, y_train, x_test, y_test = t_images, train_labels_encoded, test_images, test_labels_encoded\n",
        "  x_train, x_test = x_train / 255.0, x_test / 255.0 #scaling the data\n",
        "\n",
        "  VGG_model = VGG16(weights = 'imagenet', include_top = False, input_shape = (SIZE, SIZE, 3))\n",
        "\n",
        "  for layer in VGG_model.layers:\n",
        "      layer.trainable = False\n",
        "\n",
        "  feature_extractor = VGG_model.predict(x_train)\n",
        "  features = feature_extractor.reshape(feature_extractor.shape[0], -1)\n",
        "\n",
        "  X_rf = features\n",
        "\n",
        "  RF_model = RandomForestClassifier(n_estimators=100, random_state=42)\n",
        "\n",
        "  RF_model.fit(X_rf, y_train)\n",
        "\n",
        "  X_test_feature = VGG_model.predict(x_test)\n",
        "  X_test_features = X_test_feature.reshape(X_test_feature.shape[0], -1)\n",
        "\n",
        "  prediction_RF = RF_model.predict(X_test_features)\n",
        "\n",
        "  cm = confusion_matrix(y_test, prediction_RF)\n",
        "  sns.heatmap(cm, annot = True)\n",
        "\n",
        "  tp, fp, fn, tn = cm.ravel()\n",
        "\n",
        "  accurary = metrics.accuracy_score(y_test, prediction_RF)\n",
        "  recall = metrics.recall_score(y_test, prediction_RF)\n",
        "  precision = metrics.precision_score(y_test, prediction_RF)\n",
        "  kappa = metrics.cohen_kappa_score(y_test, prediction_RF)\n",
        "\n",
        "  metricas = (accurary, recall, precision, kappa)\n",
        "\n",
        "  vetor_resultados.append(metricas)\n",
        "\n",
        "print(vetor_resultados)"
      ],
      "metadata": {
        "id": "kkipEnhdGVmu",
        "colab": {
          "base_uri": "https://localhost:8080/"
        },
        "outputId": "c99f2a46-6e7e-4235-834b-bd1bd15b9a2b"
      },
      "execution_count": null,
      "outputs": [
        {
          "output_type": "stream",
          "name": "stdout",
          "text": [
            "287/287 [==============================] - 1392s 5s/step\n",
            "72/72 [==============================] - 345s 5s/step\n"
          ]
        }
      ]
    },
    {
      "cell_type": "code",
      "source": [
        "dataf = pd.DataFrame(vetor_resultados, columns=['Accuracy', 'Recall', 'Precision', 'Kappa'])\n",
        "\n",
        "# Crie um boxplot para as colunas do DataFrame\n",
        "df.boxplot(column=['Accuracy', 'Recall', 'Precision', 'Kappa'])\n",
        "\n",
        "# Rotule o eixo y\n",
        "plt.ylabel('Valor')\n",
        "\n",
        "# Defina o título do gráfico\n",
        "plt.title('Boxplot das Métricas')\n",
        "\n",
        "# Exiba o gráfico\n",
        "plt.show()"
      ],
      "metadata": {
        "id": "2u3ksn9BIDG6"
      },
      "execution_count": null,
      "outputs": []
    }
  ]
}