{
  "nbformat": 4,
  "nbformat_minor": 0,
  "metadata": {
    "colab": {
      "provenance": [],
      "include_colab_link": true
    },
    "kernelspec": {
      "name": "python3",
      "display_name": "Python 3"
    },
    "language_info": {
      "name": "python"
    }
  },
  "cells": [
    {
      "cell_type": "markdown",
      "metadata": {
        "id": "view-in-github",
        "colab_type": "text"
      },
      "source": [
        "<a href=\"https://colab.research.google.com/github/caiocfpeixoto/VGG16_RANDOM_FOREST/blob/main/VGG16_%26_Random_Forest.ipynb\" target=\"_parent\"><img src=\"https://colab.research.google.com/assets/colab-badge.svg\" alt=\"Open In Colab\"/></a>"
      ]
    },
    {
      "cell_type": "markdown",
      "source": [
        "Import de pacotes necessários"
      ],
      "metadata": {
        "id": "9V9RVCrz0cKb"
      }
    },
    {
      "cell_type": "code",
      "execution_count": 1,
      "metadata": {
        "id": "Xm0Gy7yopgqU"
      },
      "outputs": [],
      "source": [
        "import numpy as np\n",
        "import pandas as pd\n",
        "import cv2\n",
        "import seaborn as sns\n",
        "import os\n",
        "from PIL import Image\n",
        "\n",
        "import matplotlib.pyplot as plt\n",
        "import glob\n",
        "\n",
        "from keras.models import Sequential\n",
        "from keras.layers import Conv2D, Dense, Flatten, BatchNormalization, MaxPooling2D\n",
        "\n",
        "from keras.applications import VGG16\n",
        "\n",
        "from sklearn import preprocessing\n",
        "from sklearn.ensemble import RandomForestClassifier\n",
        "from keras.utils import  to_categorical\n",
        "from sklearn import metrics\n",
        "from sklearn.metrics import confusion_matrix"
      ]
    },
    {
      "cell_type": "markdown",
      "source": [
        "Conexão com Google drive"
      ],
      "metadata": {
        "id": "sL9Z0Isjp9uT"
      }
    },
    {
      "cell_type": "code",
      "source": [
        "from google.colab import drive\n",
        "drive.mount('/content/drive')"
      ],
      "metadata": {
        "id": "jd7obo9fD593",
        "colab": {
          "base_uri": "https://localhost:8080/"
        },
        "outputId": "982f3d73-d916-448e-947b-4f6ea1b16149"
      },
      "execution_count": 2,
      "outputs": [
        {
          "output_type": "stream",
          "name": "stdout",
          "text": [
            "Mounted at /content/drive\n"
          ]
        }
      ]
    },
    {
      "cell_type": "markdown",
      "source": [
        "Dataset dividido em ***Train***, ***Test*** e ***val***. Cada um diretórios é dividido em duas categorias:\n",
        "\n",
        "\n",
        "*   POSITIVA\n",
        "*   NEGATIVA\n",
        "\n",
        "A função abaixo percorre o diretório e cria labels para as imagens:"
      ],
      "metadata": {
        "id": "HWEH90EJNNue"
      }
    },
    {
      "cell_type": "code",
      "source": [
        "SIZE = 120\n",
        "def datafunc(datadir):\n",
        "    images = []\n",
        "    labels = []\n",
        "    for dir_path in glob.glob(datadir):\n",
        "        label = dir_path.split('/')[-1]\n",
        "        print(label)\n",
        "        for img_path in glob.glob(os.path.join(dir_path, '*.tif')):\n",
        "            try:\n",
        "                img = cv2.imread(img_path, cv2.IMREAD_COLOR)\n",
        "                img = cv2.resize(img, (SIZE, SIZE))\n",
        "                img = cv2.cvtColor(img, cv2.COLOR_RGB2BGR)\n",
        "                images.append(img)\n",
        "                labels.append(label)\n",
        "            except Exception as e:\n",
        "                print(e)\n",
        "\n",
        "    return np.array(images), np.array(labels)"
      ],
      "metadata": {
        "id": "Gxo0JPbdQpMc"
      },
      "execution_count": 3,
      "outputs": []
    },
    {
      "cell_type": "markdown",
      "source": [
        "Interando cada diretório e criando as respectivas labels"
      ],
      "metadata": {
        "id": "wdDWpZQtOaWa"
      }
    },
    {
      "cell_type": "code",
      "source": [
        "train_images, train_labels = datafunc('/content/drive/MyDrive/Celulas Cervicais/train/*')\n",
        "test_images, test_labels = datafunc('/content/drive/MyDrive/Celulas Cervicais/test/*')\n",
        "val_images, val_labels = datafunc('/content/drive/MyDrive/Celulas Cervicais/val/*')"
      ],
      "metadata": {
        "id": "kkipEnhdGVmu",
        "colab": {
          "base_uri": "https://localhost:8080/"
        },
        "outputId": "c06cef69-7c01-47e5-9672-c41e6e4e563c"
      },
      "execution_count": 4,
      "outputs": [
        {
          "output_type": "stream",
          "name": "stdout",
          "text": [
            "NEGATIVA\n",
            "POSITIVA\n",
            "NEGATIVA\n",
            "POSITIVA\n",
            "POSITIVA\n",
            "NEGATIVA\n"
          ]
        }
      ]
    },
    {
      "cell_type": "markdown",
      "source": [
        "Demonstrar os dados em gráficos"
      ],
      "metadata": {
        "id": "VMNNPQWaOhlW"
      }
    },
    {
      "cell_type": "code",
      "source": [
        "plt.figure(figsize=(20,5))\n",
        "\n",
        "# plt.subplot(1,3,1)\n",
        "sns.displot(train_labels)\n",
        "plt.title('Train data')\n",
        "\n",
        "# plt.subplot(1,3,2)\n",
        "sns.displot(test_labels)\n",
        "plt.title('Test data')\n",
        "\n",
        "# plt.subplot(1,3,3)\n",
        "sns.displot(val_labels)\n",
        "plt.title('Validation data')\n",
        "\n",
        "# plt.show()"
      ],
      "metadata": {
        "id": "46RSxZohGZLv",
        "colab": {
          "base_uri": "https://localhost:8080/",
          "height": 1000
        },
        "outputId": "e64b3fcf-b391-477d-d22f-16b3333216be"
      },
      "execution_count": 5,
      "outputs": [
        {
          "output_type": "execute_result",
          "data": {
            "text/plain": [
              "Text(0.5, 1.0, 'Validation data')"
            ]
          },
          "metadata": {},
          "execution_count": 5
        },
        {
          "output_type": "display_data",
          "data": {
            "text/plain": [
              "<Figure size 2000x500 with 0 Axes>"
            ]
          },
          "metadata": {}
        },
        {
          "output_type": "display_data",
          "data": {
            "text/plain": [
              "<Figure size 500x500 with 1 Axes>"
            ],
            "image/png": "[encoded data removed]"
          },
          "metadata": {}
        },
        {
          "output_type": "display_data",
          "data": {
            "text/plain": [
              "<Figure size 500x500 with 1 Axes>"
            ],
            "image/png": "[encoded data removed]"
          },
          "metadata": {}
        },
        {
          "output_type": "display_data",
          "data": {
            "text/plain": [
              "<Figure size 500x500 with 1 Axes>"
            ],
            "image/png": "[encoded data removed]"
          },
          "metadata": {}
        }
      ]
    },
    {
      "cell_type": "markdown",
      "source": [
        "Verificando a quantidade de ocorrências das labels, será necessário fazer um downshape dos dados pois a quantidade está desbalanceada"
      ],
      "metadata": {
        "id": "XUIu6T4fO8Up"
      }
    },
    {
      "cell_type": "code",
      "source": [
        "df = pd.DataFrame({'label': train_labels, 'images': list(train_images)}, columns=['label', 'images'])\n",
        "\n",
        "count_class_0, count_class_1 = df.label.value_counts()\n",
        "\n",
        "df_class_0 = df[df['label'] == 'NEGATIVA']\n",
        "df_class_1 = df[df['label'] == 'POSITIVA']\n",
        "\n",
        "print('NEGATIVA =', count_class_0)\n",
        "print('POSITIVA =', count_class_1)"
      ],
      "metadata": {
        "id": "26-6fbeQGcA3",
        "colab": {
          "base_uri": "https://localhost:8080/"
        },
        "outputId": "60ec2e4b-05a0-483b-dbea-4f8a559803c4"
      },
      "execution_count": 10,
      "outputs": [
        {
          "output_type": "stream",
          "name": "stdout",
          "text": [
            "NEGATIVA = 5440\n",
            "POSITIVA = 3704\n"
          ]
        }
      ]
    },
    {
      "cell_type": "markdown",
      "source": [
        "Dados balanceados"
      ],
      "metadata": {
        "id": "hzulX8ldTAtA"
      }
    },
    {
      "cell_type": "code",
      "source": [
        "df_class_0_under = df_class_0.sample(count_class_1)\n",
        "df_test_under = pd.concat([df_class_0_under, df_class_1], axis=0)\n",
        "\n",
        "print('Random under-sampling:')\n",
        "print(df_test_under.label.value_counts())\n",
        "\n",
        "df_test_under.label.value_counts().plot(kind='bar', title='Count (label)');"
      ],
      "metadata": {
        "id": "CEczpVFLGhSD",
        "colab": {
          "base_uri": "https://localhost:8080/",
          "height": 576
        },
        "outputId": "f46d5848-70aa-4ab8-e5d0-7cf6d3bb3d30"
      },
      "execution_count": 11,
      "outputs": [
        {
          "output_type": "stream",
          "name": "stdout",
          "text": [
            "Random under-sampling:\n",
            "NEGATIVA    3704\n",
            "POSITIVA    3704\n",
            "Name: label, dtype: int64\n"
          ]
        },
        {
          "output_type": "display_data",
          "data": {
            "text/plain": [
              "<Figure size 640x480 with 1 Axes>"
            ],
            "image/png": "[encoded data removed]"
          },
          "metadata": {}
        }
      ]
    },
    {
      "cell_type": "markdown",
      "source": [
        "Convertendo Dataframe para array"
      ],
      "metadata": {
        "id": "LkuP-XNETKxv"
      }
    },
    {
      "cell_type": "code",
      "source": [
        "t_images = []\n",
        "for img in df_test_under['images']:\n",
        "    img = Image.fromarray(img)\n",
        "    img = cv2.cvtColor(np.array(img), cv2.COLOR_RGB2BGR)\n",
        "    t_images.append(img)\n",
        "t_images = np.array(t_images)\n",
        "train_labels = np.array(df_test_under['label'])"
      ],
      "metadata": {
        "id": "zsUkirwWGk2Z"
      },
      "execution_count": 12,
      "outputs": []
    },
    {
      "cell_type": "code",
      "source": [
        "le = preprocessing.LabelEncoder()\n",
        "le.fit(test_labels)\n",
        "test_labels_encoded = le.transform(test_labels)\n",
        "le.fit(train_labels)\n",
        "train_labels_encoded = le.transform(train_labels)\n",
        "\n",
        "x_train, y_train, x_test, y_test = t_images, train_labels_encoded, test_images, test_labels_encoded\n",
        "x_train, x_test = x_train / 255.0, x_test / 255.0 #scaling the data"
      ],
      "metadata": {
        "id": "1C6xqwXoGnFx"
      },
      "execution_count": 13,
      "outputs": []
    },
    {
      "cell_type": "code",
      "source": [
        "VGG_model = VGG16(weights = 'imagenet', include_top = False, input_shape = (SIZE, SIZE, 3))\n",
        "\n",
        "for layer in VGG_model.layers:\n",
        "    layer.trainable = False\n",
        "\n",
        "VGG_model.summary()"
      ],
      "metadata": {
        "id": "0SvuL0S5GpU1",
        "colab": {
          "base_uri": "https://localhost:8080/"
        },
        "outputId": "e74b989f-9c64-4f7e-8afb-e9f3ae4e3502"
      },
      "execution_count": 14,
      "outputs": [
        {
          "output_type": "stream",
          "name": "stdout",
          "text": [
            "Downloading data from https://storage.googleapis.com/tensorflow/keras-applications/vgg16/vgg16_weights_tf_dim_ordering_tf_kernels_notop.h5\n",
            "58889256/58889256 [==============================] - 0s 0us/step\n",
            "Model: \"vgg16\"\n",
            "_________________________________________________________________\n",
            " Layer (type)                Output Shape              Param #   \n",
            "=================================================================\n",
            " input_1 (InputLayer)        [(None, 120, 120, 3)]     0         \n",
            "                                                                 \n",
            " block1_conv1 (Conv2D)       (None, 120, 120, 64)      1792      \n",
            "                                                                 \n",
            " block1_conv2 (Conv2D)       (None, 120, 120, 64)      36928     \n",
            "                                                                 \n",
            " block1_pool (MaxPooling2D)  (None, 60, 60, 64)        0         \n",
            "                                                                 \n",
            " block2_conv1 (Conv2D)       (None, 60, 60, 128)       73856     \n",
            "                                                                 \n",
            " block2_conv2 (Conv2D)       (None, 60, 60, 128)       147584    \n",
            "                                                                 \n",
            " block2_pool (MaxPooling2D)  (None, 30, 30, 128)       0         \n",
            "                                                                 \n",
            " block3_conv1 (Conv2D)       (None, 30, 30, 256)       295168    \n",
            "                                                                 \n",
            " block3_conv2 (Conv2D)       (None, 30, 30, 256)       590080    \n",
            "                                                                 \n",
            " block3_conv3 (Conv2D)       (None, 30, 30, 256)       590080    \n",
            "                                                                 \n",
            " block3_pool (MaxPooling2D)  (None, 15, 15, 256)       0         \n",
            "                                                                 \n",
            " block4_conv1 (Conv2D)       (None, 15, 15, 512)       1180160   \n",
            "                                                                 \n",
            " block4_conv2 (Conv2D)       (None, 15, 15, 512)       2359808   \n",
            "                                                                 \n",
            " block4_conv3 (Conv2D)       (None, 15, 15, 512)       2359808   \n",
            "                                                                 \n",
            " block4_pool (MaxPooling2D)  (None, 7, 7, 512)         0         \n",
            "                                                                 \n",
            " block5_conv1 (Conv2D)       (None, 7, 7, 512)         2359808   \n",
            "                                                                 \n",
            " block5_conv2 (Conv2D)       (None, 7, 7, 512)         2359808   \n",
            "                                                                 \n",
            " block5_conv3 (Conv2D)       (None, 7, 7, 512)         2359808   \n",
            "                                                                 \n",
            " block5_pool (MaxPooling2D)  (None, 3, 3, 512)         0         \n",
            "                                                                 \n",
            "=================================================================\n",
            "Total params: 14,714,688\n",
            "Trainable params: 0\n",
            "Non-trainable params: 14,714,688\n",
            "_________________________________________________________________\n"
          ]
        }
      ]
    },
    {
      "cell_type": "code",
      "source": [
        "feature_extractor = VGG_model.predict(x_train)\n",
        "features = feature_extractor.reshape(feature_extractor.shape[0], -1)\n",
        "\n",
        "X_rf = features"
      ],
      "metadata": {
        "id": "P2s9s9OyGs9D",
        "colab": {
          "base_uri": "https://localhost:8080/"
        },
        "outputId": "42e513df-15da-46b7-d3fc-03ca1fb8d2e0"
      },
      "execution_count": 15,
      "outputs": [
        {
          "output_type": "stream",
          "name": "stdout",
          "text": [
            "232/232 [==============================] - 1370s 6s/step\n"
          ]
        }
      ]
    },
    {
      "cell_type": "code",
      "source": [
        "RF_model = RandomForestClassifier(n_estimators=100, random_state=42)\n",
        "\n",
        "RF_model.fit(X_rf, y_train)\n",
        "\n",
        "X_test_feature = VGG_model.predict(x_test)\n",
        "X_test_features = X_test_feature.reshape(X_test_feature.shape[0], -1)\n",
        "\n",
        "prediction_RF = RF_model.predict(X_test_features)"
      ],
      "metadata": {
        "id": "Q67AL40hGueS",
        "colab": {
          "base_uri": "https://localhost:8080/"
        },
        "outputId": "1eade870-e6ae-4963-d593-0b32d4965dfa"
      },
      "execution_count": 16,
      "outputs": [
        {
          "output_type": "stream",
          "name": "stdout",
          "text": [
            "38/38 [==============================] - 221s 6s/step\n"
          ]
        }
      ]
    },
    {
      "cell_type": "code",
      "source": [
        "cm = confusion_matrix(y_test, prediction_RF)\n",
        "sns.heatmap(cm, annot = True)\n",
        "\n",
        "tp, fp, fn, tn = cm.ravel()\n",
        "\n",
        "recall = tp/(tp+fn)\n",
        "precision = tp/(tp+fp)\n",
        "\n",
        "print('Accuracy =', metrics.accuracy_score(y_test, prediction_RF))\n",
        "print(\"Recall =\", recall)\n",
        "print(\"Precision =\", precision)"
      ],
      "metadata": {
        "id": "kihpVHLgGxRT",
        "colab": {
          "base_uri": "https://localhost:8080/",
          "height": 484
        },
        "outputId": "5057057b-5301-43ce-f2b7-6175058398b5"
      },
      "execution_count": 17,
      "outputs": [
        {
          "output_type": "stream",
          "name": "stdout",
          "text": [
            "Accuracy = 0.7531592249368155\n",
            "Recall = 0.8435754189944135\n",
            "Precision = 0.6842900302114804\n"
          ]
        },
        {
          "output_type": "display_data",
          "data": {
            "text/plain": [
              "<Figure size 640x480 with 2 Axes>"
            ],
            "image/png": "[encoded data removed]"
          },
          "metadata": {}
        }
      ]
    }
  ]
}