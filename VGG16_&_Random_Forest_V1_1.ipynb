{
  "nbformat": 4,
  "nbformat_minor": 0,
  "metadata": {
    "colab": {
      "provenance": [],
      "authorship_tag": "ABX9TyOAdrELQ2ngcwipxtwdEcHT",
      "include_colab_link": true
    },
    "kernelspec": {
      "name": "python3",
      "display_name": "Python 3"
    },
    "language_info": {
      "name": "python"
    }
  },
  "cells": [
    {
      "cell_type": "markdown",
      "metadata": {
        "id": "view-in-github",
        "colab_type": "text"
      },
      "source": [
        "<a href=\"https://colab.research.google.com/github/caiocfpeixoto/VGG16_RANDOM_FOREST/blob/main/VGG16_%26_Random_Forest_V1_1.ipynb\" target=\"_parent\"><img src=\"https://colab.research.google.com/assets/colab-badge.svg\" alt=\"Open In Colab\"/></a>"
      ]
    },
    {
      "cell_type": "markdown",
      "source": [
        "Import de pacotes necessários"
      ],
      "metadata": {
        "id": "9V9RVCrz0cKb"
      }
    },
    {
      "cell_type": "code",
      "source": [
        "!pip install split-folders"
      ],
      "metadata": {
        "colab": {
          "base_uri": "https://localhost:8080/"
        },
        "id": "-HnNT_hiwssR",
        "outputId": "231754b4-32b4-4457-920b-e8a876ff1af0"
      },
      "execution_count": null,
      "outputs": [
        {
          "output_type": "stream",
          "name": "stdout",
          "text": [
            "Requirement already satisfied: split-folders in /usr/local/lib/python3.10/dist-packages (0.5.1)\n"
          ]
        }
      ]
    },
    {
      "cell_type": "code",
      "execution_count": null,
      "metadata": {
        "id": "Xm0Gy7yopgqU"
      },
      "outputs": [],
      "source": [
        "import numpy as np\n",
        "import pandas as pd\n",
        "import cv2\n",
        "import seaborn as sns\n",
        "import os\n",
        "from PIL import Image\n",
        "\n",
        "import matplotlib.pyplot as plt\n",
        "import glob\n",
        "\n",
        "from keras.models import Sequential\n",
        "from keras.layers import Conv2D, Dense, Flatten, BatchNormalization, MaxPooling2D\n",
        "\n",
        "from keras.applications import VGG16\n",
        "\n",
        "from sklearn import preprocessing\n",
        "from sklearn.ensemble import RandomForestClassifier\n",
        "from keras.utils import  to_categorical\n",
        "from sklearn import metrics\n",
        "from sklearn.metrics import confusion_matrix\n",
        "import splitfolders\n"
      ]
    },
    {
      "cell_type": "markdown",
      "source": [
        "Conexão com Google drive"
      ],
      "metadata": {
        "id": "sL9Z0Isjp9uT"
      }
    },
    {
      "cell_type": "code",
      "source": [
        "from google.colab import drive\n",
        "drive.mount('/content/drive')"
      ],
      "metadata": {
        "id": "jd7obo9fD593",
        "colab": {
          "base_uri": "https://localhost:8080/"
        },
        "outputId": "a3aa7e0c-a480-423d-ead0-4edcace07116"
      },
      "execution_count": null,
      "outputs": [
        {
          "output_type": "stream",
          "name": "stdout",
          "text": [
            "Mounted at /content/drive\n"
          ]
        }
      ]
    },
    {
      "cell_type": "markdown",
      "source": [
        "Criando divisão ***train(80%)*** e ***test(20%)*** de forma Randomica"
      ],
      "metadata": {
        "id": "ZlQmn4OrbPE6"
      }
    },
    {
      "cell_type": "code",
      "source": [
        "\n",
        "# Diretório de origem que contém as imagens\n",
        "diretorio_origem = '/content/drive/MyDrive/Celulas Cervicais_V1.1/'\n",
        "\n",
        "# Diretório de destino para as imagens de treinamento e teste\n",
        "diretorio_destino = '/content/drive/MyDrive/Celulas Cervicais_V1.1_seed_42/'\n",
        "\n",
        "# Use splitfolders para dividir as imagens em treinamento e teste (80% e 20%)\n",
        "splitfolders.ratio(diretorio_origem, output=diretorio_destino, seed=42, ratio=(0.8, 0.2))\n",
        "\n",
        "print(\"Divisão concluída.\")\n"
      ],
      "metadata": {
        "colab": {
          "base_uri": "https://localhost:8080/"
        },
        "id": "wrvRlkyxuZ0X",
        "outputId": "af2f8f51-30c7-4886-eab5-cc4a55d3b9f7"
      },
      "execution_count": null,
      "outputs": [
        {
          "output_type": "stream",
          "name": "stderr",
          "text": [
            "Copying files: 11469 files [07:19, 26.10 files/s]"
          ]
        },
        {
          "output_type": "stream",
          "name": "stdout",
          "text": [
            "Divisão concluída.\n"
          ]
        },
        {
          "output_type": "stream",
          "name": "stderr",
          "text": [
            "\n"
          ]
        }
      ]
    },
    {
      "cell_type": "markdown",
      "source": [
        "Dataset dividido em ***Train*** e ***Test***. Cada um diretórios é dividido em duas categorias:\n",
        "\n",
        "\n",
        "*   POSITIVA\n",
        "*   NEGATIVA\n",
        "\n",
        "A função abaixo percorre o diretório e cria labels para as imagens:"
      ],
      "metadata": {
        "id": "HWEH90EJNNue"
      }
    },
    {
      "cell_type": "code",
      "source": [
        "SIZE = 100\n",
        "def datafunc(datadir):\n",
        "    images = []\n",
        "    labels = []\n",
        "    file_names = []\n",
        "    for dir_path in glob.glob(datadir):\n",
        "        label = dir_path.split('/')[-1]\n",
        "        print(label)\n",
        "        for img_path in glob.glob(os.path.join(dir_path, '*.tif')):\n",
        "            try:\n",
        "                img = cv2.imread(img_path, cv2.IMREAD_COLOR)\n",
        "                img = cv2.resize(img, (SIZE, SIZE))\n",
        "                img = cv2.cvtColor(img, cv2.COLOR_RGB2BGR)\n",
        "                file_name = os.path.basename(img_path)\n",
        "                file_names.append(file_name)\n",
        "                images.append(img)\n",
        "                labels.append(label)\n",
        "            except Exception as e:\n",
        "                print(e)\n",
        "\n",
        "    return np.array(images), np.array(labels), np.array(file_names)"
      ],
      "metadata": {
        "id": "Gxo0JPbdQpMc"
      },
      "execution_count": null,
      "outputs": []
    },
    {
      "cell_type": "markdown",
      "source": [
        "Interando cada diretório e criando as respectivas labels"
      ],
      "metadata": {
        "id": "wdDWpZQtOaWa"
      }
    },
    {
      "cell_type": "code",
      "source": [
        "train_images, train_labels, train_images_names = datafunc('/content/drive/MyDrive/Celulas Cervicais_V1.1_seed_42/train/*')\n",
        "test_images, test_labels, test_images_names = datafunc('/content/drive/MyDrive/Celulas Cervicais_V1.1_seed_42/test/*')"
      ],
      "metadata": {
        "id": "kkipEnhdGVmu",
        "colab": {
          "base_uri": "https://localhost:8080/"
        },
        "outputId": "deaf85a1-608f-48e8-b9bc-93366bb8b91e"
      },
      "execution_count": null,
      "outputs": [
        {
          "output_type": "stream",
          "name": "stdout",
          "text": [
            "POSITIVA\n",
            "NEGATIVA\n",
            "POSITIVA\n",
            "NEGATIVA\n"
          ]
        }
      ]
    },
    {
      "cell_type": "markdown",
      "source": [
        "Demonstrar os dados em gráficos"
      ],
      "metadata": {
        "id": "VMNNPQWaOhlW"
      }
    },
    {
      "cell_type": "code",
      "source": [
        "plt.figure(figsize=(20,5))\n",
        "\n",
        "sns.displot(train_labels)\n",
        "plt.title('Train data')\n",
        "\n",
        "sns.displot(test_labels)\n",
        "plt.title('Test data')"
      ],
      "metadata": {
        "id": "46RSxZohGZLv",
        "colab": {
          "base_uri": "https://localhost:8080/",
          "height": 1000
        },
        "outputId": "45e28ee8-72ed-43f0-a772-975fba98e929"
      },
      "execution_count": null,
      "outputs": [
        {
          "output_type": "execute_result",
          "data": {
            "text/plain": [
              "Text(0.5, 1.0, 'Test data')"
            ]
          },
          "metadata": {},
          "execution_count": 5
        },
        {
          "output_type": "display_data",
          "data": {
            "text/plain": [
              "<Figure size 2000x500 with 0 Axes>"
            ]
          },
          "metadata": {}
        },
        {
          "output_type": "display_data",
          "data": {
            "text/plain": [
              "<Figure size 500x500 with 1 Axes>"
            ],
            "image/png": "[encoded data removed]"
          },
          "metadata": {}
        },
        {
          "output_type": "display_data",
          "data": {
            "text/plain": [
              "<Figure size 500x500 with 1 Axes>"
            ],
            "image/png": "[encoded data removed]"
          },
          "metadata": {}
        }
      ]
    },
    {
      "cell_type": "markdown",
      "source": [
        "Verificando a quantidade de ocorrências das labels, será necessário fazer um downshape dos dados pois a quantidade está desbalanceada"
      ],
      "metadata": {
        "id": "XUIu6T4fO8Up"
      }
    },
    {
      "cell_type": "markdown",
      "source": [
        "- Verificando Train"
      ],
      "metadata": {
        "id": "iK2wGwnye4as"
      }
    },
    {
      "cell_type": "code",
      "source": [
        "df = pd.DataFrame({'label': train_labels, 'images': list(train_images_names), 'path': list(train_images)}, columns=['label', 'images', 'path'])\n",
        "\n",
        "count_class_0, count_class_1 = df.label.value_counts()\n",
        "\n",
        "df_class_0 = df[df['label'] == 'NEGATIVA']\n",
        "df_class_1 = df[df['label'] == 'POSITIVA']\n",
        "\n",
        "print('NEGATIVA =', count_class_0)\n",
        "print('POSITIVA =', count_class_1)\n",
        "display(df)\n"
      ],
      "metadata": {
        "id": "26-6fbeQGcA3",
        "colab": {
          "base_uri": "https://localhost:8080/",
          "height": 458
        },
        "outputId": "15e640c5-a7e3-47bd-b44c-18ab2187fa02"
      },
      "execution_count": null,
      "outputs": [
        {
          "output_type": "stream",
          "name": "stdout",
          "text": [
            "NEGATIVA = 5432\n",
            "POSITIVA = 3743\n"
          ]
        },
        {
          "output_type": "display_data",
          "data": {
            "text/plain": [
              "         label                                        images  \\\n",
              "0     POSITIVA  c7c3f56a4d110b49099830b0f65251a3_497_423.tif   \n",
              "1     POSITIVA  c7adf1972424f069b6355c500962722f_612_219.tif   \n",
              "2     POSITIVA  c7c3f56a4d110b49099830b0f65251a3_479_462.tif   \n",
              "3     POSITIVA  c7adf1972424f069b6355c500962722f_522_960.tif   \n",
              "4     POSITIVA  c63289c59bca91f80b2dde9ac013cc57_142_227.tif   \n",
              "...        ...                                           ...   \n",
              "9170  NEGATIVA  16032768fe56bbb933730762d726d263_812_637.tif   \n",
              "9171  NEGATIVA  16032768fe56bbb933730762d726d263_302_495.tif   \n",
              "9172  NEGATIVA  16032768fe56bbb933730762d726d263_87_1203.tif   \n",
              "9173  NEGATIVA  16032768fe56bbb933730762d726d263_627_792.tif   \n",
              "9174  NEGATIVA  1766e5c4a2a6034960b40bdd3c47c297_549_983.tif   \n",
              "\n",
              "                                                   path  \n",
              "0     [[[206, 232, 224], [202, 228, 221], [201, 226,...  \n",
              "1     [[[206, 218, 235], [205, 219, 234], [193, 209,...  \n",
              "2     [[[207, 236, 216], [205, 233, 221], [203, 230,...  \n",
              "3     [[[22, 30, 63], [29, 40, 80], [47, 65, 101], [...  \n",
              "4     [[[40, 40, 104], [41, 40, 103], [44, 40, 102],...  \n",
              "...                                                 ...  \n",
              "9170  [[[228, 148, 121], [226, 153, 123], [238, 150,...  \n",
              "9171  [[[218, 135, 99], [221, 127, 94], [224, 127, 9...  \n",
              "9172  [[[233, 242, 254], [243, 226, 221], [218, 200,...  \n",
              "9173  [[[209, 165, 175], [221, 171, 172], [223, 175,...  \n",
              "9174  [[[211, 216, 211], [215, 220, 219], [227, 232,...  \n",
              "\n",
              "[9175 rows x 3 columns]"
            ],
            "text/html": [
              "\n",
              "  <div id=\"df-67343c66-d370-4826-849f-db7c7b2477a4\" class=\"colab-df-container\">\n",
              "    <div>\n",
              "<style scoped>\n",
              "    .dataframe tbody tr th:only-of-type {\n",
              "        vertical-align: middle;\n",
              "    }\n",
              "\n",
              "    .dataframe tbody tr th {\n",
              "        vertical-align: top;\n",
              "    }\n",
              "\n",
              "    .dataframe thead th {\n",
              "        text-align: right;\n",
              "    }\n",
              "</style>\n",
              "<table border=\"1\" class=\"dataframe\">\n",
              "  <thead>\n",
              "    <tr style=\"text-align: right;\">\n",
              "      <th></th>\n",
              "      <th>label</th>\n",
              "      <th>images</th>\n",
              "      <th>path</th>\n",
              "    </tr>\n",
              "  </thead>\n",
              "  <tbody>\n",
              "    <tr>\n",
              "      <th>0</th>\n",
              "      <td>POSITIVA</td>\n",
              "      <td>c7c3f56a4d110b49099830b0f65251a3_497_423.tif</td>\n",
              "      <td>[[[206, 232, 224], [202, 228, 221], [201, 226,...</td>\n",
              "    </tr>\n",
              "    <tr>\n",
              "      <th>1</th>\n",
              "      <td>POSITIVA</td>\n",
              "      <td>c7adf1972424f069b6355c500962722f_612_219.tif</td>\n",
              "      <td>[[[206, 218, 235], [205, 219, 234], [193, 209,...</td>\n",
              "    </tr>\n",
              "    <tr>\n",
              "      <th>2</th>\n",
              "      <td>POSITIVA</td>\n",
              "      <td>c7c3f56a4d110b49099830b0f65251a3_479_462.tif</td>\n",
              "      <td>[[[207, 236, 216], [205, 233, 221], [203, 230,...</td>\n",
              "    </tr>\n",
              "    <tr>\n",
              "      <th>3</th>\n",
              "      <td>POSITIVA</td>\n",
              "      <td>c7adf1972424f069b6355c500962722f_522_960.tif</td>\n",
              "      <td>[[[22, 30, 63], [29, 40, 80], [47, 65, 101], [...</td>\n",
              "    </tr>\n",
              "    <tr>\n",
              "      <th>4</th>\n",
              "      <td>POSITIVA</td>\n",
              "      <td>c63289c59bca91f80b2dde9ac013cc57_142_227.tif</td>\n",
              "      <td>[[[40, 40, 104], [41, 40, 103], [44, 40, 102],...</td>\n",
              "    </tr>\n",
              "    <tr>\n",
              "      <th>...</th>\n",
              "      <td>...</td>\n",
              "      <td>...</td>\n",
              "      <td>...</td>\n",
              "    </tr>\n",
              "    <tr>\n",
              "      <th>9170</th>\n",
              "      <td>NEGATIVA</td>\n",
              "      <td>16032768fe56bbb933730762d726d263_812_637.tif</td>\n",
              "      <td>[[[228, 148, 121], [226, 153, 123], [238, 150,...</td>\n",
              "    </tr>\n",
              "    <tr>\n",
              "      <th>9171</th>\n",
              "      <td>NEGATIVA</td>\n",
              "      <td>16032768fe56bbb933730762d726d263_302_495.tif</td>\n",
              "      <td>[[[218, 135, 99], [221, 127, 94], [224, 127, 9...</td>\n",
              "    </tr>\n",
              "    <tr>\n",
              "      <th>9172</th>\n",
              "      <td>NEGATIVA</td>\n",
              "      <td>16032768fe56bbb933730762d726d263_87_1203.tif</td>\n",
              "      <td>[[[233, 242, 254], [243, 226, 221], [218, 200,...</td>\n",
              "    </tr>\n",
              "    <tr>\n",
              "      <th>9173</th>\n",
              "      <td>NEGATIVA</td>\n",
              "      <td>16032768fe56bbb933730762d726d263_627_792.tif</td>\n",
              "      <td>[[[209, 165, 175], [221, 171, 172], [223, 175,...</td>\n",
              "    </tr>\n",
              "    <tr>\n",
              "      <th>9174</th>\n",
              "      <td>NEGATIVA</td>\n",
              "      <td>1766e5c4a2a6034960b40bdd3c47c297_549_983.tif</td>\n",
              "      <td>[[[211, 216, 211], [215, 220, 219], [227, 232,...</td>\n",
              "    </tr>\n",
              "  </tbody>\n",
              "</table>\n",
              "<p>9175 rows × 3 columns</p>\n",
              "</div>\n",
              "    <div class=\"colab-df-buttons\">\n",
              "\n",
              "  <div class=\"colab-df-container\">\n",
              "    <button class=\"colab-df-convert\" onclick=\"convertToInteractive('df-67343c66-d370-4826-849f-db7c7b2477a4')\"\n",
              "            title=\"Convert this dataframe to an interactive table.\"\n",
              "            style=\"display:none;\">\n",
              "\n",
              "  <svg xmlns=\"http://www.w3.org/2000/svg\" height=\"24px\" viewBox=\"0 -960 960 960\">\n",
              "    <path d=\"M120-120v-720h720v720H120Zm60-500h600v-160H180v160Zm220 220h160v-160H400v160Zm0 220h160v-160H400v160ZM180-400h160v-160H180v160Zm440 0h160v-160H620v160ZM180-180h160v-160H180v160Zm440 0h160v-160H620v160Z\"/>\n",
              "  </svg>\n",
              "    </button>\n",
              "\n",
              "  <style>\n",
              "    .colab-df-container {\n",
              "      display:flex;\n",
              "      gap: 12px;\n",
              "    }\n",
              "\n",
              "    .colab-df-convert {\n",
              "      background-color: #E8F0FE;\n",
              "      border: none;\n",
              "      border-radius: 50%;\n",
              "      cursor: pointer;\n",
              "      display: none;\n",
              "      fill: #1967D2;\n",
              "      height: 32px;\n",
              "      padding: 0 0 0 0;\n",
              "      width: 32px;\n",
              "    }\n",
              "\n",
              "    .colab-df-convert:hover {\n",
              "      background-color: #E2EBFA;\n",
              "      box-shadow: 0px 1px 2px rgba(60, 64, 67, 0.3), 0px 1px 3px 1px rgba(60, 64, 67, 0.15);\n",
              "      fill: #174EA6;\n",
              "    }\n",
              "\n",
              "    .colab-df-buttons div {\n",
              "      margin-bottom: 4px;\n",
              "    }\n",
              "\n",
              "    [theme=dark] .colab-df-convert {\n",
              "      background-color: #3B4455;\n",
              "      fill: #D2E3FC;\n",
              "    }\n",
              "\n",
              "    [theme=dark] .colab-df-convert:hover {\n",
              "      background-color: #434B5C;\n",
              "      box-shadow: 0px 1px 3px 1px rgba(0, 0, 0, 0.15);\n",
              "      filter: drop-shadow(0px 1px 2px rgba(0, 0, 0, 0.3));\n",
              "      fill: #FFFFFF;\n",
              "    }\n",
              "  </style>\n",
              "\n",
              "    <script>\n",
              "      const buttonEl =\n",
              "        document.querySelector('#df-67343c66-d370-4826-849f-db7c7b2477a4 button.colab-df-convert');\n",
              "      buttonEl.style.display =\n",
              "        google.colab.kernel.accessAllowed ? 'block' : 'none';\n",
              "\n",
              "      async function convertToInteractive(key) {\n",
              "        const element = document.querySelector('#df-67343c66-d370-4826-849f-db7c7b2477a4');\n",
              "        const dataTable =\n",
              "          await google.colab.kernel.invokeFunction('convertToInteractive',\n",
              "                                                    [key], {});\n",
              "        if (!dataTable) return;\n",
              "\n",
              "        const docLinkHtml = 'Like what you see? Visit the ' +\n",
              "          '<a target=\"_blank\" href=https://colab.research.google.com/notebooks/data_table.ipynb>data table notebook</a>'\n",
              "          + ' to learn more about interactive tables.';\n",
              "        element.innerHTML = '';\n",
              "        dataTable['output_type'] = 'display_data';\n",
              "        await google.colab.output.renderOutput(dataTable, element);\n",
              "        const docLink = document.createElement('div');\n",
              "        docLink.innerHTML = docLinkHtml;\n",
              "        element.appendChild(docLink);\n",
              "      }\n",
              "    </script>\n",
              "  </div>\n",
              "\n",
              "\n",
              "<div id=\"df-9b892ffc-43c6-41c2-814d-0b0616a44437\">\n",
              "  <button class=\"colab-df-quickchart\" onclick=\"quickchart('df-9b892ffc-43c6-41c2-814d-0b0616a44437')\"\n",
              "            title=\"Suggest charts.\"\n",
              "            style=\"display:none;\">\n",
              "\n",
              "<svg xmlns=\"http://www.w3.org/2000/svg\" height=\"24px\"viewBox=\"0 0 24 24\"\n",
              "     width=\"24px\">\n",
              "    <g>\n",
              "        <path d=\"M19 3H5c-1.1 0-2 .9-2 2v14c0 1.1.9 2 2 2h14c1.1 0 2-.9 2-2V5c0-1.1-.9-2-2-2zM9 17H7v-7h2v7zm4 0h-2V7h2v10zm4 0h-2v-4h2v4z\"/>\n",
              "    </g>\n",
              "</svg>\n",
              "  </button>\n",
              "\n",
              "<style>\n",
              "  .colab-df-quickchart {\n",
              "      --bg-color: #E8F0FE;\n",
              "      --fill-color: #1967D2;\n",
              "      --hover-bg-color: #E2EBFA;\n",
              "      --hover-fill-color: #174EA6;\n",
              "      --disabled-fill-color: #AAA;\n",
              "      --disabled-bg-color: #DDD;\n",
              "  }\n",
              "\n",
              "  [theme=dark] .colab-df-quickchart {\n",
              "      --bg-color: #3B4455;\n",
              "      --fill-color: #D2E3FC;\n",
              "      --hover-bg-color: #434B5C;\n",
              "      --hover-fill-color: #FFFFFF;\n",
              "      --disabled-bg-color: #3B4455;\n",
              "      --disabled-fill-color: #666;\n",
              "  }\n",
              "\n",
              "  .colab-df-quickchart {\n",
              "    background-color: var(--bg-color);\n",
              "    border: none;\n",
              "    border-radius: 50%;\n",
              "    cursor: pointer;\n",
              "    display: none;\n",
              "    fill: var(--fill-color);\n",
              "    height: 32px;\n",
              "    padding: 0;\n",
              "    width: 32px;\n",
              "  }\n",
              "\n",
              "  .colab-df-quickchart:hover {\n",
              "    background-color: var(--hover-bg-color);\n",
              "    box-shadow: 0 1px 2px rgba(60, 64, 67, 0.3), 0 1px 3px 1px rgba(60, 64, 67, 0.15);\n",
              "    fill: var(--button-hover-fill-color);\n",
              "  }\n",
              "\n",
              "  .colab-df-quickchart-complete:disabled,\n",
              "  .colab-df-quickchart-complete:disabled:hover {\n",
              "    background-color: var(--disabled-bg-color);\n",
              "    fill: var(--disabled-fill-color);\n",
              "    box-shadow: none;\n",
              "  }\n",
              "\n",
              "  .colab-df-spinner {\n",
              "    border: 2px solid var(--fill-color);\n",
              "    border-color: transparent;\n",
              "    border-bottom-color: var(--fill-color);\n",
              "    animation:\n",
              "      spin 1s steps(1) infinite;\n",
              "  }\n",
              "\n",
              "  @keyframes spin {\n",
              "    0% {\n",
              "      border-color: transparent;\n",
              "      border-bottom-color: var(--fill-color);\n",
              "      border-left-color: var(--fill-color);\n",
              "    }\n",
              "    20% {\n",
              "      border-color: transparent;\n",
              "      border-left-color: var(--fill-color);\n",
              "      border-top-color: var(--fill-color);\n",
              "    }\n",
              "    30% {\n",
              "      border-color: transparent;\n",
              "      border-left-color: var(--fill-color);\n",
              "      border-top-color: var(--fill-color);\n",
              "      border-right-color: var(--fill-color);\n",
              "    }\n",
              "    40% {\n",
              "      border-color: transparent;\n",
              "      border-right-color: var(--fill-color);\n",
              "      border-top-color: var(--fill-color);\n",
              "    }\n",
              "    60% {\n",
              "      border-color: transparent;\n",
              "      border-right-color: var(--fill-color);\n",
              "    }\n",
              "    80% {\n",
              "      border-color: transparent;\n",
              "      border-right-color: var(--fill-color);\n",
              "      border-bottom-color: var(--fill-color);\n",
              "    }\n",
              "    90% {\n",
              "      border-color: transparent;\n",
              "      border-bottom-color: var(--fill-color);\n",
              "    }\n",
              "  }\n",
              "</style>\n",
              "\n",
              "  <script>\n",
              "    async function quickchart(key) {\n",
              "      const quickchartButtonEl =\n",
              "        document.querySelector('#' + key + ' button');\n",
              "      quickchartButtonEl.disabled = true;  // To prevent multiple clicks.\n",
              "      quickchartButtonEl.classList.add('colab-df-spinner');\n",
              "      try {\n",
              "        const charts = await google.colab.kernel.invokeFunction(\n",
              "            'suggestCharts', [key], {});\n",
              "      } catch (error) {\n",
              "        console.error('Error during call to suggestCharts:', error);\n",
              "      }\n",
              "      quickchartButtonEl.classList.remove('colab-df-spinner');\n",
              "      quickchartButtonEl.classList.add('colab-df-quickchart-complete');\n",
              "    }\n",
              "    (() => {\n",
              "      let quickchartButtonEl =\n",
              "        document.querySelector('#df-9b892ffc-43c6-41c2-814d-0b0616a44437 button');\n",
              "      quickchartButtonEl.style.display =\n",
              "        google.colab.kernel.accessAllowed ? 'block' : 'none';\n",
              "    })();\n",
              "  </script>\n",
              "</div>\n",
              "    </div>\n",
              "  </div>\n"
            ]
          },
          "metadata": {}
        }
      ]
    },
    {
      "cell_type": "markdown",
      "source": [
        "- Verificando test"
      ],
      "metadata": {
        "id": "tWjUnK-ce_iS"
      }
    },
    {
      "cell_type": "code",
      "source": [
        "df2 = pd.DataFrame({'label': test_labels, 'images': list(test_images_names), 'path': list(test_images)}, columns=['label', 'images', 'path'])\n",
        "\n",
        "t_count_class_0, t_count_class_1 = df2.label.value_counts()\n",
        "\n",
        "df2_class_0 = df2[df2['label'] == 'NEGATIVA']\n",
        "df2_class_1 = df2[df2['label'] == 'POSITIVA']\n",
        "\n",
        "print('NEGATIVA =', t_count_class_0)\n",
        "print('POSITIVA =', t_count_class_1)\n",
        "display(df2)"
      ],
      "metadata": {
        "colab": {
          "base_uri": "https://localhost:8080/",
          "height": 458
        },
        "id": "qg7qvzU-fCaP",
        "outputId": "3b06cddd-6e49-4a4a-f217-80b7e18b809b"
      },
      "execution_count": null,
      "outputs": [
        {
          "output_type": "stream",
          "name": "stdout",
          "text": [
            "NEGATIVA = 1358\n",
            "POSITIVA = 936\n"
          ]
        },
        {
          "output_type": "display_data",
          "data": {
            "text/plain": [
              "         label                                         images  \\\n",
              "0     POSITIVA   00b1e59ebc3e7be500ef7548207d44e2_485_663.tif   \n",
              "1     POSITIVA   011fda505d7e4af4b8cc57545343624d_595_708.tif   \n",
              "2     POSITIVA   00b1e59ebc3e7be500ef7548207d44e2_407_752.tif   \n",
              "3     POSITIVA  040722a73af21747a3b66a8d69a235d0_417_1065.tif   \n",
              "4     POSITIVA   03f5d5ec88161b9365bea549d7ce92cd_285_170.tif   \n",
              "...        ...                                            ...   \n",
              "2289  NEGATIVA   4bae321eaa4fedb2a75bf5c53b14b4f4_890_977.tif   \n",
              "2290  NEGATIVA   4dbb52e87bc98d0d5a10cc0dc05fdc3f_259_379.tif   \n",
              "2291  NEGATIVA   4a34b60331799fdc99ccce2ac9531a9d_488_472.tif   \n",
              "2292  NEGATIVA   4f8e654e9c41b941ef6ced7a6b833917_678_513.tif   \n",
              "2293  NEGATIVA    515abacf9c89f439f90e7d34b406f581_78_344.tif   \n",
              "\n",
              "                                                   path  \n",
              "0     [[[215, 125, 91], [215, 117, 99], [207, 112, 1...  \n",
              "1     [[[194, 184, 212], [221, 194, 208], [219, 206,...  \n",
              "2     [[[146, 62, 66], [129, 60, 66], [128, 57, 75],...  \n",
              "3     [[[232, 190, 179], [247, 201, 183], [254, 207,...  \n",
              "4     [[[159, 100, 102], [156, 98, 100], [149, 90, 9...  \n",
              "...                                                 ...  \n",
              "2289  [[[239, 227, 231], [237, 228, 233], [228, 222,...  \n",
              "2290  [[[151, 151, 178], [147, 146, 175], [151, 151,...  \n",
              "2291  [[[196, 132, 99], [196, 127, 92], [191, 121, 8...  \n",
              "2292  [[[186, 141, 132], [188, 139, 119], [166, 132,...  \n",
              "2293  [[[159, 151, 194], [140, 131, 201], [140, 149,...  \n",
              "\n",
              "[2294 rows x 3 columns]"
            ],
            "text/html": [
              "\n",
              "  <div id=\"df-b5359876-cccb-402b-aa64-441a7d49d250\" class=\"colab-df-container\">\n",
              "    <div>\n",
              "<style scoped>\n",
              "    .dataframe tbody tr th:only-of-type {\n",
              "        vertical-align: middle;\n",
              "    }\n",
              "\n",
              "    .dataframe tbody tr th {\n",
              "        vertical-align: top;\n",
              "    }\n",
              "\n",
              "    .dataframe thead th {\n",
              "        text-align: right;\n",
              "    }\n",
              "</style>\n",
              "<table border=\"1\" class=\"dataframe\">\n",
              "  <thead>\n",
              "    <tr style=\"text-align: right;\">\n",
              "      <th></th>\n",
              "      <th>label</th>\n",
              "      <th>images</th>\n",
              "      <th>path</th>\n",
              "    </tr>\n",
              "  </thead>\n",
              "  <tbody>\n",
              "    <tr>\n",
              "      <th>0</th>\n",
              "      <td>POSITIVA</td>\n",
              "      <td>00b1e59ebc3e7be500ef7548207d44e2_485_663.tif</td>\n",
              "      <td>[[[215, 125, 91], [215, 117, 99], [207, 112, 1...</td>\n",
              "    </tr>\n",
              "    <tr>\n",
              "      <th>1</th>\n",
              "      <td>POSITIVA</td>\n",
              "      <td>011fda505d7e4af4b8cc57545343624d_595_708.tif</td>\n",
              "      <td>[[[194, 184, 212], [221, 194, 208], [219, 206,...</td>\n",
              "    </tr>\n",
              "    <tr>\n",
              "      <th>2</th>\n",
              "      <td>POSITIVA</td>\n",
              "      <td>00b1e59ebc3e7be500ef7548207d44e2_407_752.tif</td>\n",
              "      <td>[[[146, 62, 66], [129, 60, 66], [128, 57, 75],...</td>\n",
              "    </tr>\n",
              "    <tr>\n",
              "      <th>3</th>\n",
              "      <td>POSITIVA</td>\n",
              "      <td>040722a73af21747a3b66a8d69a235d0_417_1065.tif</td>\n",
              "      <td>[[[232, 190, 179], [247, 201, 183], [254, 207,...</td>\n",
              "    </tr>\n",
              "    <tr>\n",
              "      <th>4</th>\n",
              "      <td>POSITIVA</td>\n",
              "      <td>03f5d5ec88161b9365bea549d7ce92cd_285_170.tif</td>\n",
              "      <td>[[[159, 100, 102], [156, 98, 100], [149, 90, 9...</td>\n",
              "    </tr>\n",
              "    <tr>\n",
              "      <th>...</th>\n",
              "      <td>...</td>\n",
              "      <td>...</td>\n",
              "      <td>...</td>\n",
              "    </tr>\n",
              "    <tr>\n",
              "      <th>2289</th>\n",
              "      <td>NEGATIVA</td>\n",
              "      <td>4bae321eaa4fedb2a75bf5c53b14b4f4_890_977.tif</td>\n",
              "      <td>[[[239, 227, 231], [237, 228, 233], [228, 222,...</td>\n",
              "    </tr>\n",
              "    <tr>\n",
              "      <th>2290</th>\n",
              "      <td>NEGATIVA</td>\n",
              "      <td>4dbb52e87bc98d0d5a10cc0dc05fdc3f_259_379.tif</td>\n",
              "      <td>[[[151, 151, 178], [147, 146, 175], [151, 151,...</td>\n",
              "    </tr>\n",
              "    <tr>\n",
              "      <th>2291</th>\n",
              "      <td>NEGATIVA</td>\n",
              "      <td>4a34b60331799fdc99ccce2ac9531a9d_488_472.tif</td>\n",
              "      <td>[[[196, 132, 99], [196, 127, 92], [191, 121, 8...</td>\n",
              "    </tr>\n",
              "    <tr>\n",
              "      <th>2292</th>\n",
              "      <td>NEGATIVA</td>\n",
              "      <td>4f8e654e9c41b941ef6ced7a6b833917_678_513.tif</td>\n",
              "      <td>[[[186, 141, 132], [188, 139, 119], [166, 132,...</td>\n",
              "    </tr>\n",
              "    <tr>\n",
              "      <th>2293</th>\n",
              "      <td>NEGATIVA</td>\n",
              "      <td>515abacf9c89f439f90e7d34b406f581_78_344.tif</td>\n",
              "      <td>[[[159, 151, 194], [140, 131, 201], [140, 149,...</td>\n",
              "    </tr>\n",
              "  </tbody>\n",
              "</table>\n",
              "<p>2294 rows × 3 columns</p>\n",
              "</div>\n",
              "    <div class=\"colab-df-buttons\">\n",
              "\n",
              "  <div class=\"colab-df-container\">\n",
              "    <button class=\"colab-df-convert\" onclick=\"convertToInteractive('df-b5359876-cccb-402b-aa64-441a7d49d250')\"\n",
              "            title=\"Convert this dataframe to an interactive table.\"\n",
              "            style=\"display:none;\">\n",
              "\n",
              "  <svg xmlns=\"http://www.w3.org/2000/svg\" height=\"24px\" viewBox=\"0 -960 960 960\">\n",
              "    <path d=\"M120-120v-720h720v720H120Zm60-500h600v-160H180v160Zm220 220h160v-160H400v160Zm0 220h160v-160H400v160ZM180-400h160v-160H180v160Zm440 0h160v-160H620v160ZM180-180h160v-160H180v160Zm440 0h160v-160H620v160Z\"/>\n",
              "  </svg>\n",
              "    </button>\n",
              "\n",
              "  <style>\n",
              "    .colab-df-container {\n",
              "      display:flex;\n",
              "      gap: 12px;\n",
              "    }\n",
              "\n",
              "    .colab-df-convert {\n",
              "      background-color: #E8F0FE;\n",
              "      border: none;\n",
              "      border-radius: 50%;\n",
              "      cursor: pointer;\n",
              "      display: none;\n",
              "      fill: #1967D2;\n",
              "      height: 32px;\n",
              "      padding: 0 0 0 0;\n",
              "      width: 32px;\n",
              "    }\n",
              "\n",
              "    .colab-df-convert:hover {\n",
              "      background-color: #E2EBFA;\n",
              "      box-shadow: 0px 1px 2px rgba(60, 64, 67, 0.3), 0px 1px 3px 1px rgba(60, 64, 67, 0.15);\n",
              "      fill: #174EA6;\n",
              "    }\n",
              "\n",
              "    .colab-df-buttons div {\n",
              "      margin-bottom: 4px;\n",
              "    }\n",
              "\n",
              "    [theme=dark] .colab-df-convert {\n",
              "      background-color: #3B4455;\n",
              "      fill: #D2E3FC;\n",
              "    }\n",
              "\n",
              "    [theme=dark] .colab-df-convert:hover {\n",
              "      background-color: #434B5C;\n",
              "      box-shadow: 0px 1px 3px 1px rgba(0, 0, 0, 0.15);\n",
              "      filter: drop-shadow(0px 1px 2px rgba(0, 0, 0, 0.3));\n",
              "      fill: #FFFFFF;\n",
              "    }\n",
              "  </style>\n",
              "\n",
              "    <script>\n",
              "      const buttonEl =\n",
              "        document.querySelector('#df-b5359876-cccb-402b-aa64-441a7d49d250 button.colab-df-convert');\n",
              "      buttonEl.style.display =\n",
              "        google.colab.kernel.accessAllowed ? 'block' : 'none';\n",
              "\n",
              "      async function convertToInteractive(key) {\n",
              "        const element = document.querySelector('#df-b5359876-cccb-402b-aa64-441a7d49d250');\n",
              "        const dataTable =\n",
              "          await google.colab.kernel.invokeFunction('convertToInteractive',\n",
              "                                                    [key], {});\n",
              "        if (!dataTable) return;\n",
              "\n",
              "        const docLinkHtml = 'Like what you see? Visit the ' +\n",
              "          '<a target=\"_blank\" href=https://colab.research.google.com/notebooks/data_table.ipynb>data table notebook</a>'\n",
              "          + ' to learn more about interactive tables.';\n",
              "        element.innerHTML = '';\n",
              "        dataTable['output_type'] = 'display_data';\n",
              "        await google.colab.output.renderOutput(dataTable, element);\n",
              "        const docLink = document.createElement('div');\n",
              "        docLink.innerHTML = docLinkHtml;\n",
              "        element.appendChild(docLink);\n",
              "      }\n",
              "    </script>\n",
              "  </div>\n",
              "\n",
              "\n",
              "<div id=\"df-44dae706-a7f1-435e-bb3a-423c62b448d7\">\n",
              "  <button class=\"colab-df-quickchart\" onclick=\"quickchart('df-44dae706-a7f1-435e-bb3a-423c62b448d7')\"\n",
              "            title=\"Suggest charts.\"\n",
              "            style=\"display:none;\">\n",
              "\n",
              "<svg xmlns=\"http://www.w3.org/2000/svg\" height=\"24px\"viewBox=\"0 0 24 24\"\n",
              "     width=\"24px\">\n",
              "    <g>\n",
              "        <path d=\"M19 3H5c-1.1 0-2 .9-2 2v14c0 1.1.9 2 2 2h14c1.1 0 2-.9 2-2V5c0-1.1-.9-2-2-2zM9 17H7v-7h2v7zm4 0h-2V7h2v10zm4 0h-2v-4h2v4z\"/>\n",
              "    </g>\n",
              "</svg>\n",
              "  </button>\n",
              "\n",
              "<style>\n",
              "  .colab-df-quickchart {\n",
              "      --bg-color: #E8F0FE;\n",
              "      --fill-color: #1967D2;\n",
              "      --hover-bg-color: #E2EBFA;\n",
              "      --hover-fill-color: #174EA6;\n",
              "      --disabled-fill-color: #AAA;\n",
              "      --disabled-bg-color: #DDD;\n",
              "  }\n",
              "\n",
              "  [theme=dark] .colab-df-quickchart {\n",
              "      --bg-color: #3B4455;\n",
              "      --fill-color: #D2E3FC;\n",
              "      --hover-bg-color: #434B5C;\n",
              "      --hover-fill-color: #FFFFFF;\n",
              "      --disabled-bg-color: #3B4455;\n",
              "      --disabled-fill-color: #666;\n",
              "  }\n",
              "\n",
              "  .colab-df-quickchart {\n",
              "    background-color: var(--bg-color);\n",
              "    border: none;\n",
              "    border-radius: 50%;\n",
              "    cursor: pointer;\n",
              "    display: none;\n",
              "    fill: var(--fill-color);\n",
              "    height: 32px;\n",
              "    padding: 0;\n",
              "    width: 32px;\n",
              "  }\n",
              "\n",
              "  .colab-df-quickchart:hover {\n",
              "    background-color: var(--hover-bg-color);\n",
              "    box-shadow: 0 1px 2px rgba(60, 64, 67, 0.3), 0 1px 3px 1px rgba(60, 64, 67, 0.15);\n",
              "    fill: var(--button-hover-fill-color);\n",
              "  }\n",
              "\n",
              "  .colab-df-quickchart-complete:disabled,\n",
              "  .colab-df-quickchart-complete:disabled:hover {\n",
              "    background-color: var(--disabled-bg-color);\n",
              "    fill: var(--disabled-fill-color);\n",
              "    box-shadow: none;\n",
              "  }\n",
              "\n",
              "  .colab-df-spinner {\n",
              "    border: 2px solid var(--fill-color);\n",
              "    border-color: transparent;\n",
              "    border-bottom-color: var(--fill-color);\n",
              "    animation:\n",
              "      spin 1s steps(1) infinite;\n",
              "  }\n",
              "\n",
              "  @keyframes spin {\n",
              "    0% {\n",
              "      border-color: transparent;\n",
              "      border-bottom-color: var(--fill-color);\n",
              "      border-left-color: var(--fill-color);\n",
              "    }\n",
              "    20% {\n",
              "      border-color: transparent;\n",
              "      border-left-color: var(--fill-color);\n",
              "      border-top-color: var(--fill-color);\n",
              "    }\n",
              "    30% {\n",
              "      border-color: transparent;\n",
              "      border-left-color: var(--fill-color);\n",
              "      border-top-color: var(--fill-color);\n",
              "      border-right-color: var(--fill-color);\n",
              "    }\n",
              "    40% {\n",
              "      border-color: transparent;\n",
              "      border-right-color: var(--fill-color);\n",
              "      border-top-color: var(--fill-color);\n",
              "    }\n",
              "    60% {\n",
              "      border-color: transparent;\n",
              "      border-right-color: var(--fill-color);\n",
              "    }\n",
              "    80% {\n",
              "      border-color: transparent;\n",
              "      border-right-color: var(--fill-color);\n",
              "      border-bottom-color: var(--fill-color);\n",
              "    }\n",
              "    90% {\n",
              "      border-color: transparent;\n",
              "      border-bottom-color: var(--fill-color);\n",
              "    }\n",
              "  }\n",
              "</style>\n",
              "\n",
              "  <script>\n",
              "    async function quickchart(key) {\n",
              "      const quickchartButtonEl =\n",
              "        document.querySelector('#' + key + ' button');\n",
              "      quickchartButtonEl.disabled = true;  // To prevent multiple clicks.\n",
              "      quickchartButtonEl.classList.add('colab-df-spinner');\n",
              "      try {\n",
              "        const charts = await google.colab.kernel.invokeFunction(\n",
              "            'suggestCharts', [key], {});\n",
              "      } catch (error) {\n",
              "        console.error('Error during call to suggestCharts:', error);\n",
              "      }\n",
              "      quickchartButtonEl.classList.remove('colab-df-spinner');\n",
              "      quickchartButtonEl.classList.add('colab-df-quickchart-complete');\n",
              "    }\n",
              "    (() => {\n",
              "      let quickchartButtonEl =\n",
              "        document.querySelector('#df-44dae706-a7f1-435e-bb3a-423c62b448d7 button');\n",
              "      quickchartButtonEl.style.display =\n",
              "        google.colab.kernel.accessAllowed ? 'block' : 'none';\n",
              "    })();\n",
              "  </script>\n",
              "</div>\n",
              "    </div>\n",
              "  </div>\n"
            ]
          },
          "metadata": {}
        }
      ]
    },
    {
      "cell_type": "markdown",
      "source": [
        "Dados balanceados"
      ],
      "metadata": {
        "id": "hzulX8ldTAtA"
      }
    },
    {
      "cell_type": "code",
      "source": [
        "df_class_0_under = df_class_0.sample(count_class_1)\n",
        "df_test_under = pd.concat([df_class_0_under, df_class_1], axis=0)\n",
        "\n",
        "print('Random under-sampling:')\n",
        "print(df_test_under.label.value_counts())\n",
        "\n",
        "df_test_under.label.value_counts().plot(kind='bar', title='Count (label)');"
      ],
      "metadata": {
        "id": "CEczpVFLGhSD",
        "colab": {
          "base_uri": "https://localhost:8080/",
          "height": 576
        },
        "outputId": "78c8665d-cc33-413c-9f63-6ba938c60a11"
      },
      "execution_count": null,
      "outputs": [
        {
          "output_type": "stream",
          "name": "stdout",
          "text": [
            "Random under-sampling:\n",
            "NEGATIVA    3743\n",
            "POSITIVA    3743\n",
            "Name: label, dtype: int64\n"
          ]
        },
        {
          "output_type": "display_data",
          "data": {
            "text/plain": [
              "<Figure size 640x480 with 1 Axes>"
            ],
            "image/png": "[encoded data removed]"
          },
          "metadata": {}
        }
      ]
    },
    {
      "cell_type": "markdown",
      "source": [
        "Convertendo Dataframe para array"
      ],
      "metadata": {
        "id": "LkuP-XNETKxv"
      }
    },
    {
      "cell_type": "code",
      "source": [
        "t_images = []\n",
        "for img in df_test_under['path']:\n",
        "    img = Image.fromarray(img)\n",
        "    img = cv2.cvtColor(np.array(img), cv2.COLOR_RGB2BGR)\n",
        "    t_images.append(img)\n",
        "t_images = np.array(t_images)\n",
        "train_labels = np.array(df_test_under['label'])"
      ],
      "metadata": {
        "id": "zsUkirwWGk2Z"
      },
      "execution_count": null,
      "outputs": []
    },
    {
      "cell_type": "code",
      "source": [
        "le = preprocessing.LabelEncoder()\n",
        "le.fit(test_labels)\n",
        "test_labels_encoded = le.transform(test_labels)\n",
        "le.fit(train_labels)\n",
        "train_labels_encoded = le.transform(train_labels)\n",
        "\n",
        "x_train, y_train, x_test, y_test = t_images, train_labels_encoded, test_images, test_labels_encoded\n",
        "x_train, x_test = x_train / 255.0, x_test / 255.0 #scaling the data"
      ],
      "metadata": {
        "id": "1C6xqwXoGnFx"
      },
      "execution_count": null,
      "outputs": []
    },
    {
      "cell_type": "code",
      "source": [
        "VGG_model = VGG16(weights = 'imagenet', include_top = False, input_shape = (SIZE, SIZE, 3))\n",
        "\n",
        "for layer in VGG_model.layers:\n",
        "    layer.trainable = False\n",
        "\n",
        "VGG_model.summary()"
      ],
      "metadata": {
        "id": "0SvuL0S5GpU1",
        "colab": {
          "base_uri": "https://localhost:8080/"
        },
        "outputId": "8b5717cd-b1a0-4ab1-b70e-60c4dd6d39fb"
      },
      "execution_count": null,
      "outputs": [
        {
          "output_type": "stream",
          "name": "stdout",
          "text": [
            "Model: \"vgg16\"\n",
            "_________________________________________________________________\n",
            " Layer (type)                Output Shape              Param #   \n",
            "=================================================================\n",
            " input_1 (InputLayer)        [(None, 100, 100, 3)]     0         \n",
            "                                                                 \n",
            " block1_conv1 (Conv2D)       (None, 100, 100, 64)      1792      \n",
            "                                                                 \n",
            " block1_conv2 (Conv2D)       (None, 100, 100, 64)      36928     \n",
            "                                                                 \n",
            " block1_pool (MaxPooling2D)  (None, 50, 50, 64)        0         \n",
            "                                                                 \n",
            " block2_conv1 (Conv2D)       (None, 50, 50, 128)       73856     \n",
            "                                                                 \n",
            " block2_conv2 (Conv2D)       (None, 50, 50, 128)       147584    \n",
            "                                                                 \n",
            " block2_pool (MaxPooling2D)  (None, 25, 25, 128)       0         \n",
            "                                                                 \n",
            " block3_conv1 (Conv2D)       (None, 25, 25, 256)       295168    \n",
            "                                                                 \n",
            " block3_conv2 (Conv2D)       (None, 25, 25, 256)       590080    \n",
            "                                                                 \n",
            " block3_conv3 (Conv2D)       (None, 25, 25, 256)       590080    \n",
            "                                                                 \n",
            " block3_pool (MaxPooling2D)  (None, 12, 12, 256)       0         \n",
            "                                                                 \n",
            " block4_conv1 (Conv2D)       (None, 12, 12, 512)       1180160   \n",
            "                                                                 \n",
            " block4_conv2 (Conv2D)       (None, 12, 12, 512)       2359808   \n",
            "                                                                 \n",
            " block4_conv3 (Conv2D)       (None, 12, 12, 512)       2359808   \n",
            "                                                                 \n",
            " block4_pool (MaxPooling2D)  (None, 6, 6, 512)         0         \n",
            "                                                                 \n",
            " block5_conv1 (Conv2D)       (None, 6, 6, 512)         2359808   \n",
            "                                                                 \n",
            " block5_conv2 (Conv2D)       (None, 6, 6, 512)         2359808   \n",
            "                                                                 \n",
            " block5_conv3 (Conv2D)       (None, 6, 6, 512)         2359808   \n",
            "                                                                 \n",
            " block5_pool (MaxPooling2D)  (None, 3, 3, 512)         0         \n",
            "                                                                 \n",
            "=================================================================\n",
            "Total params: 14714688 (56.13 MB)\n",
            "Trainable params: 0 (0.00 Byte)\n",
            "Non-trainable params: 14714688 (56.13 MB)\n",
            "_________________________________________________________________\n"
          ]
        }
      ]
    },
    {
      "cell_type": "code",
      "source": [
        "feature_extractor = VGG_model.predict(x_train)\n",
        "features = feature_extractor.reshape(feature_extractor.shape[0], -1)\n",
        "\n",
        "X_rf = features"
      ],
      "metadata": {
        "id": "P2s9s9OyGs9D",
        "colab": {
          "base_uri": "https://localhost:8080/"
        },
        "outputId": "1233e448-25fd-4d6f-9cb0-ee6ee753f8b8"
      },
      "execution_count": null,
      "outputs": [
        {
          "output_type": "stream",
          "name": "stdout",
          "text": [
            "234/234 [==============================] - 901s 4s/step\n"
          ]
        }
      ]
    },
    {
      "cell_type": "code",
      "source": [
        "RF_model = RandomForestClassifier(n_estimators=100, random_state=42)\n",
        "\n",
        "RF_model.fit(X_rf, y_train)\n",
        "\n",
        "X_test_feature = VGG_model.predict(x_test)\n",
        "X_test_features = X_test_feature.reshape(X_test_feature.shape[0], -1)\n",
        "\n",
        "prediction_RF = RF_model.predict(X_test_features)"
      ],
      "metadata": {
        "id": "Q67AL40hGueS",
        "colab": {
          "base_uri": "https://localhost:8080/"
        },
        "outputId": "df97a3f8-a6f1-4113-a587-c14de805710c"
      },
      "execution_count": null,
      "outputs": [
        {
          "output_type": "stream",
          "name": "stdout",
          "text": [
            "72/72 [==============================] - 296s 4s/step\n"
          ]
        }
      ]
    },
    {
      "cell_type": "code",
      "source": [
        "cm = confusion_matrix(y_test, prediction_RF)\n",
        "sns.heatmap(cm, annot = True)\n",
        "\n",
        "tp, fp, fn, tn = cm.ravel()\n",
        "\n",
        "accurary = metrics.accuracy_score(y_test, prediction_RF)\n",
        "recall = metrics.recall_score(y_test, prediction_RF)\n",
        "precision = metrics.precision_score(y_test, prediction_RF)\n",
        "kappa = metrics.cohen_kappa_score(y_test, prediction_RF)\n",
        "\n",
        "print('Accuracy =', accurary)\n",
        "print(\"Recall =\", recall)\n",
        "print(\"Precision =\", precision)\n",
        "print(\"Kappa =\", kappa) # adicionado o índice  kappa\n",
        "\n",
        "vetor_resultados = []"
      ],
      "metadata": {
        "id": "kihpVHLgGxRT",
        "colab": {
          "base_uri": "https://localhost:8080/",
          "height": 504
        },
        "outputId": "3bf6bcd7-af07-477a-a6fe-aa1aaeb707cb"
      },
      "execution_count": null,
      "outputs": [
        {
          "output_type": "stream",
          "name": "stdout",
          "text": [
            "Accuracy = 0.7602441150828247\n",
            "Recall = 0.9017094017094017\n",
            "Precision = 0.6482334869431644\n",
            "Kappa = 0.5321193727870511\n"
          ]
        },
        {
          "output_type": "display_data",
          "data": {
            "text/plain": [
              "<Figure size 640x480 with 2 Axes>"
            ],
            "image/png": "[encoded data removed]"
          },
          "metadata": {}
        }
      ]
    }
  ]
}